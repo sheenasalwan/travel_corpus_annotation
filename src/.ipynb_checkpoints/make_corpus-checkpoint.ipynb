{
 "cells": [
  {
   "cell_type": "code",
   "execution_count": 1,
   "metadata": {},
   "outputs": [],
   "source": [
    "import pandas as pd"
   ]
  },
  {
   "cell_type": "code",
   "execution_count": 2,
   "metadata": {},
   "outputs": [],
   "source": [
    "tripadvisor = \"./corpus/tripadvisor_overview+reviews.csv\"\n",
    "airbnb = \"./corpus/airbnb_corpus.csv\""
   ]
  },
  {
   "cell_type": "code",
   "execution_count": 16,
   "metadata": {},
   "outputs": [],
   "source": [
    "df = pd.read_csv(tripadvisor)\n",
    "df.drop(columns=[\"title\", \"url\"], inplace=True)\n",
    "df2 = pd.read_csv(airbnb)\n",
    "df2.drop(columns=[\"id\", \"location\", \"type\"], inplace=True)\n",
    "df2 = df2.rename(columns={\"text\": \"overview\"})\n",
    "result = df.append(df2, sort=False)\n",
    "result.to_csv(\"corpus.csv\", index=False)"
   ]
  }
 ],
 "metadata": {
  "kernelspec": {
   "display_name": "Python 3",
   "language": "python",
   "name": "python3"
  },
  "language_info": {
   "codemirror_mode": {
    "name": "ipython",
    "version": 3
   },
   "file_extension": ".py",
   "mimetype": "text/x-python",
   "name": "python",
   "nbconvert_exporter": "python",
   "pygments_lexer": "ipython3",
   "version": "3.8.3"
  }
 },
 "nbformat": 4,
 "nbformat_minor": 4
}
