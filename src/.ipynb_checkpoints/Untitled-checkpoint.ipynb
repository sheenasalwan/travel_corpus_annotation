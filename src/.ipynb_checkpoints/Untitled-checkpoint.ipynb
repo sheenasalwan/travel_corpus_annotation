{
 "cells": [
  {
   "cell_type": "code",
   "execution_count": null,
   "metadata": {},
   "outputs": [],
   "source": [
    "annotations_dict = amt_annotations.to_dict()\n",
    "worker_id_list = list(annotations_dict['WorkerId'].values())\n",
    "activity_list = list(annotations_dict['Answer.“Activity”'].values())\n",
    "#activity_list = [ i.strip('/').lower().replace(\" \",\"\") for i in activity_list ]\n",
    "\n",
    "activity_list = [ i.strip('/').lower() for i in activity_list ]\n",
    "\n",
    "worker_annotation = list(zip(worker_id_list,activity_list))\n",
    "worker_annotation\n",
    "triples = []\n",
    "count = 0\n",
    "id =0\n",
    "\n",
    "for index,item in enumerate(worker_annotation):\n",
    "    count +=1\n",
    "    if index % 3 == 0:\n",
    "        count = 0\n",
    "    if index % 3 == 0:\n",
    "        id +=1\n",
    "    triples.append((count,id,item[1]))\n",
    "    \n",
    "for triple in triples:\n",
    "    print(triple)\n",
    "    \n",
    "annotation_score = AnnotationTask(triples).pi()\n",
    "print('\\n')\n",
    "print(\"Annotation Score:\",annotation_score)"
   ]
  }
 ],
 "metadata": {
  "kernelspec": {
   "display_name": "Python 3",
   "language": "python",
   "name": "python3"
  },
  "language_info": {
   "codemirror_mode": {
    "name": "ipython",
    "version": 3
   },
   "file_extension": ".py",
   "mimetype": "text/x-python",
   "name": "python",
   "nbconvert_exporter": "python",
   "pygments_lexer": "ipython3",
   "version": "3.8.3"
  }
 },
 "nbformat": 4,
 "nbformat_minor": 4
}
