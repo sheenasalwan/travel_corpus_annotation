{
 "cells": [
  {
   "cell_type": "markdown",
   "metadata": {},
   "source": [
    "## This notebook reads the worker output from Amazon Mechanical Turk, processes it and calculates: Inter Annotator Agreement Score ##"
   ]
  },
  {
   "cell_type": "code",
   "execution_count": 61,
   "metadata": {},
   "outputs": [],
   "source": [
    "import pandas as pd\n",
    "import nltk\n",
    "from nltk.metrics.agreement import AnnotationTask"
   ]
  },
  {
   "cell_type": "code",
   "execution_count": 84,
   "metadata": {},
   "outputs": [
    {
     "data": {
      "text/html": [
       "<div>\n",
       "<style scoped>\n",
       "    .dataframe tbody tr th:only-of-type {\n",
       "        vertical-align: middle;\n",
       "    }\n",
       "\n",
       "    .dataframe tbody tr th {\n",
       "        vertical-align: top;\n",
       "    }\n",
       "\n",
       "    .dataframe thead th {\n",
       "        text-align: right;\n",
       "    }\n",
       "</style>\n",
       "<table border=\"1\" class=\"dataframe\">\n",
       "  <thead>\n",
       "    <tr style=\"text-align: right;\">\n",
       "      <th></th>\n",
       "      <th>WorkerId</th>\n",
       "      <th>RejectionTime</th>\n",
       "      <th>Answer.“Activity”</th>\n",
       "    </tr>\n",
       "  </thead>\n",
       "  <tbody>\n",
       "    <tr>\n",
       "      <th>0</th>\n",
       "      <td>A24JKHC4HTY6CD</td>\n",
       "      <td>NaN</td>\n",
       "      <td>swim</td>\n",
       "    </tr>\n",
       "    <tr>\n",
       "      <th>1</th>\n",
       "      <td>A3OVE49GVEJT8B</td>\n",
       "      <td>NaN</td>\n",
       "      <td>swimming</td>\n",
       "    </tr>\n",
       "    <tr>\n",
       "      <th>2</th>\n",
       "      <td>A4D99Y82KOLC8</td>\n",
       "      <td>NaN</td>\n",
       "      <td>rope swing</td>\n",
       "    </tr>\n",
       "    <tr>\n",
       "      <th>3</th>\n",
       "      <td>A1BYS45FAD0HWD</td>\n",
       "      <td>NaN</td>\n",
       "      <td>Jet Skiing, riding</td>\n",
       "    </tr>\n",
       "    <tr>\n",
       "      <th>4</th>\n",
       "      <td>A24JKHC4HTY6CD</td>\n",
       "      <td>NaN</td>\n",
       "      <td>/RIDING, swimming</td>\n",
       "    </tr>\n",
       "    <tr>\n",
       "      <th>...</th>\n",
       "      <td>...</td>\n",
       "      <td>...</td>\n",
       "      <td>...</td>\n",
       "    </tr>\n",
       "    <tr>\n",
       "      <th>901</th>\n",
       "      <td>AKSLU0C30G3JT</td>\n",
       "      <td>NaN</td>\n",
       "      <td>/kiteboarding</td>\n",
       "    </tr>\n",
       "    <tr>\n",
       "      <th>902</th>\n",
       "      <td>A5TRIFYKKB8KG</td>\n",
       "      <td>NaN</td>\n",
       "      <td>kiteboarding</td>\n",
       "    </tr>\n",
       "    <tr>\n",
       "      <th>904</th>\n",
       "      <td>A2F36YYI5U6AF4</td>\n",
       "      <td>NaN</td>\n",
       "      <td>guided tour</td>\n",
       "    </tr>\n",
       "    <tr>\n",
       "      <th>905</th>\n",
       "      <td>A2MTOSH583K270</td>\n",
       "      <td>NaN</td>\n",
       "      <td>/RIDE</td>\n",
       "    </tr>\n",
       "    <tr>\n",
       "      <th>906</th>\n",
       "      <td>A1PRRDIHIHTHJV</td>\n",
       "      <td>NaN</td>\n",
       "      <td>/guided tour, sample</td>\n",
       "    </tr>\n",
       "  </tbody>\n",
       "</table>\n",
       "<p>801 rows × 3 columns</p>\n",
       "</div>"
      ],
      "text/plain": [
       "           WorkerId RejectionTime     Answer.“Activity”\n",
       "0    A24JKHC4HTY6CD           NaN                  swim\n",
       "1    A3OVE49GVEJT8B           NaN              swimming\n",
       "2     A4D99Y82KOLC8           NaN            rope swing\n",
       "3    A1BYS45FAD0HWD           NaN    Jet Skiing, riding\n",
       "4    A24JKHC4HTY6CD           NaN     /RIDING, swimming\n",
       "..              ...           ...                   ...\n",
       "901   AKSLU0C30G3JT           NaN         /kiteboarding\n",
       "902   A5TRIFYKKB8KG           NaN          kiteboarding\n",
       "904  A2F36YYI5U6AF4           NaN           guided tour\n",
       "905  A2MTOSH583K270           NaN                 /RIDE\n",
       "906  A1PRRDIHIHTHJV           NaN  /guided tour, sample\n",
       "\n",
       "[801 rows x 3 columns]"
      ]
     },
     "execution_count": 84,
     "metadata": {},
     "output_type": "execute_result"
    }
   ],
   "source": [
    "amt_annotations = pd.read_csv(\"../../data/Combined_Batch.csv\", usecols=['WorkerId','Answer.“Activity”','RejectionTime'])\n",
    "\n",
    "amt_annotations = amt_annotations.query('RejectionTime.isnull()')\n",
    "amt_annotations"
   ]
  },
  {
   "cell_type": "code",
   "execution_count": 85,
   "metadata": {},
   "outputs": [
    {
     "name": "stdout",
     "output_type": "stream",
     "text": [
      "\n",
      "\n",
      "Annotation Score: 0.26142845648150775\n"
     ]
    }
   ],
   "source": [
    "from nltk.stem import WordNetLemmatizer\n",
    "from nltk import word_tokenize\n",
    "lemmatizer= WordNetLemmatizer()\n",
    "\n",
    "annotations_dict = amt_annotations.to_dict()\n",
    "worker_id_list = list(annotations_dict['WorkerId'].values())\n",
    "activity_list = list(annotations_dict['Answer.“Activity”'].values())\n",
    "#activity_list = [ i.strip('/').lower().replace(\" \",\"\") for i in activity_list ]\n",
    "\n",
    "activity_list = [ i.strip('/').lower() for i in activity_list ]\n",
    "\n",
    "worker_annotation = list(zip(worker_id_list,activity_list))\n",
    "worker_annotation\n",
    "triples = []\n",
    "count = 0\n",
    "id =0\n",
    "item_list = []\n",
    "\n",
    "\n",
    "for index,item in enumerate(worker_annotation):\n",
    "    count +=1\n",
    "    if index % 3 == 0:\n",
    "        count = 0\n",
    "    if index % 3 == 0:\n",
    "        id +=1\n",
    "        \n",
    "    item_list = word_tokenize(item[1])\n",
    "    \n",
    "    for each in range(len(item_list)):\n",
    "        if item_list[each] != \",\":\n",
    "            word = lemmatizer.lemmatize(item_list[each].strip(), 'v')\n",
    "            triples.append((count,id,word))\n",
    "    \n",
    "# for triple in triples:\n",
    "#     print(triple)\n",
    "    \n",
    "annotation_score = AnnotationTask(triples).pi()\n",
    "print('\\n')\n",
    "print(\"Annotation Score:\",annotation_score)"
   ]
  },
  {
   "cell_type": "code",
   "execution_count": 86,
   "metadata": {},
   "outputs": [
    {
     "name": "stdout",
     "output_type": "stream",
     "text": [
      "\n",
      "\n",
      "Annotation Score: 0.47066167290886396\n"
     ]
    }
   ],
   "source": [
    "annotation_score = AnnotationTask(triples).avg_Ao()\n",
    "print('\\n')\n",
    "print(\"Annotation Score:\",annotation_score)"
   ]
  },
  {
   "cell_type": "code",
   "execution_count": null,
   "metadata": {},
   "outputs": [],
   "source": []
  }
 ],
 "metadata": {
  "kernelspec": {
   "display_name": "Python 3",
   "language": "python",
   "name": "python3"
  },
  "language_info": {
   "codemirror_mode": {
    "name": "ipython",
    "version": 3
   },
   "file_extension": ".py",
   "mimetype": "text/x-python",
   "name": "python",
   "nbconvert_exporter": "python",
   "pygments_lexer": "ipython3",
   "version": "3.7.6"
  }
 },
 "nbformat": 4,
 "nbformat_minor": 4
}
