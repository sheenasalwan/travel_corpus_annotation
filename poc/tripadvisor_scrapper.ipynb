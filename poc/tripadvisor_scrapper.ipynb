{
 "cells": [
  {
   "cell_type": "code",
   "execution_count": 1,
   "metadata": {},
   "outputs": [],
   "source": [
    "from bs4 import BeautifulSoup\n",
    "from urllib.request import urlopen\n",
    "import requests\n",
    "import csv"
   ]
  },
  {
   "cell_type": "code",
   "execution_count": 2,
   "metadata": {},
   "outputs": [],
   "source": [
    "url = \"https://www.tripadvisor.com/AttractionProductReview-g147320-d15616245-LED_Night_Kayak_Condado_Lagoon_Guided_Excursion-San_Juan_Puerto_Rico.html\"\n",
    "save_path = \"./corpus/tripadvisor_sample.csv\""
   ]
  },
  {
   "cell_type": "code",
   "execution_count": 3,
   "metadata": {},
   "outputs": [],
   "source": [
    "def get_overview(soup):\n",
    "    '''Get overview'''\n",
    "    div = soup.find(\"div\", {\"data-automation\": \"overviewContent\"})\n",
    "    text = div.get_text()\n",
    "    return text\n",
    "\n",
    "def get_title(soup):\n",
    "    '''Get title'''\n",
    "    span = soup.find(\"span\", {\"data-automation\": \"productHeaderText\"})\n",
    "    title = span.get_text()\n",
    "    return title\n",
    "\n",
    "def get_review(soup):\n",
    "    '''Get first review'''\n",
    "    div = soup.find(\"div\", {\"data-automation\": \"reviewList\"})\n",
    "    review = div.find(\"q\").get_text()\n",
    "    return review"
   ]
  },
  {
   "cell_type": "code",
   "execution_count": 4,
   "metadata": {},
   "outputs": [],
   "source": [
    "soup = BeautifulSoup(urlopen(url), \"lxml\")\n",
    "overview = get_overview(soup)\n",
    "title = get_title(soup)\n",
    "review = get_review(soup)"
   ]
  },
  {
   "cell_type": "code",
   "execution_count": 5,
   "metadata": {},
   "outputs": [],
   "source": [
    "with open(save_path, 'w', newline='', encoding=\"utf-8\") as csv_file:\n",
    "    csvWriter = csv.writer(csv_file)\n",
    "    csvWriter.writerow([\"title\", \"overview\", \"review\"]) \n",
    "    csvWriter.writerow([title, overview, review]) "
   ]
  },
  {
   "cell_type": "code",
   "execution_count": null,
   "metadata": {},
   "outputs": [],
   "source": []
  }
 ],
 "metadata": {
  "kernelspec": {
   "display_name": "Python 3",
   "language": "python",
   "name": "python3"
  },
  "language_info": {
   "codemirror_mode": {
    "name": "ipython",
    "version": 3
   },
   "file_extension": ".py",
   "mimetype": "text/x-python",
   "name": "python",
   "nbconvert_exporter": "python",
   "pygments_lexer": "ipython3",
   "version": "3.8.3"
  }
 },
 "nbformat": 4,
 "nbformat_minor": 4
}
