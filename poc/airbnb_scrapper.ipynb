{
 "cells": [
  {
   "cell_type": "code",
   "execution_count": 1,
   "metadata": {},
   "outputs": [],
   "source": [
    "from bs4 import BeautifulSoup\n",
    "from urllib.request import urlopen\n",
    "import requests\n",
    "import csv\n",
    "\n",
    "url = \"https://www.airbnb.com/experiences/329385?currentTab=experience_tab&federatedSearchId=e4dfed85-4ba8-40c8-ae11-0cfdc0d9c758&searchId=&sectionId=535c457f-441e-4e15-a05a-e22ed5af1fe2&source=p2\"\n",
    "save_path = \"./corpus/airbnb_sample.csv\"\n",
    "headers = {\"User-Agent\": \"Mozilla/5.0 (Macintosh; Intel Mac OS X 10_11_2) AppleWebKit/601.3.9 (KHTML, like Gecko) Version/9.0.2 Safari/601.3.9\"}"
   ]
  },
  {
   "cell_type": "code",
   "execution_count": 2,
   "metadata": {},
   "outputs": [],
   "source": [
    "def get_content(soup):\n",
    "    '''Get What you'll do section'''\n",
    "    div = soup.find(\"div\", {\"data-section-id\": \"DESCRIPTION_DEFAULT\"})\n",
    "    for child in div.contents:\n",
    "        if child.name == \"span\":\n",
    "            text = child.get_text()\n",
    "    return text\n",
    "\n",
    "def get_title(soup):\n",
    "    '''Get exprerience title'''\n",
    "    div = soup.find(\"div\", {\"data-section-id\": \"TITLE_DEFAULT\"})\n",
    "    first_child = div.find_all(\"div\")[0]\n",
    "    title = first_child.get_text()\n",
    "    return title"
   ]
  },
  {
   "cell_type": "code",
   "execution_count": 3,
   "metadata": {},
   "outputs": [],
   "source": [
    "response = requests.get(url, headers=headers)\n",
    "soup = BeautifulSoup(response.content, \"lxml\")\n",
    "text = get_content(soup)\n",
    "title = get_title(soup)"
   ]
  },
  {
   "cell_type": "code",
   "execution_count": 4,
   "metadata": {},
   "outputs": [],
   "source": [
    "with open(save_path, 'w', newline='', encoding=\"utf-8\") as csv_file:\n",
    "    csvWriter = csv.writer(csv_file)\n",
    "    csvWriter.writerow([\"title\", \"text\"]) \n",
    "    csvWriter.writerow([title, text]) "
   ]
  },
  {
   "cell_type": "code",
   "execution_count": null,
   "metadata": {},
   "outputs": [],
   "source": []
  }
 ],
 "metadata": {
  "kernelspec": {
   "display_name": "Python 3",
   "language": "python",
   "name": "python3"
  },
  "language_info": {
   "codemirror_mode": {
    "name": "ipython",
    "version": 3
   },
   "file_extension": ".py",
   "mimetype": "text/x-python",
   "name": "python",
   "nbconvert_exporter": "python",
   "pygments_lexer": "ipython3",
   "version": "3.8.3"
  }
 },
 "nbformat": 4,
 "nbformat_minor": 4
}
